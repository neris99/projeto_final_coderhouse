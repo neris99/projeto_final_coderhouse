{
  "nbformat": 4,
  "nbformat_minor": 0,
  "metadata": {
    "colab": {
      "provenance": []
    },
    "kernelspec": {
      "name": "python3",
      "display_name": "Python 3"
    },
    "language_info": {
      "name": "python"
    }
  },
  "cells": [
    {
      "cell_type": "markdown",
      "source": [
        "![image.png](data:image/png;base64,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)"
      ],
      "metadata": {
        "id": "jqwjbj_B0kLP"
      }
    },
    {
      "cell_type": "code",
      "source": [
        "pip install requests pandas\n"
      ],
      "metadata": {
        "colab": {
          "base_uri": "https://localhost:8080/"
        },
        "id": "IBsOrhcE0nPP",
        "outputId": "eb2cbda9-94de-4a7c-8843-f7028a15445a"
      },
      "execution_count": 22,
      "outputs": [
        {
          "output_type": "stream",
          "name": "stdout",
          "text": [
            "Requirement already satisfied: requests in /usr/local/lib/python3.10/dist-packages (2.31.0)\n",
            "Requirement already satisfied: pandas in /usr/local/lib/python3.10/dist-packages (1.5.3)\n",
            "Requirement already satisfied: charset-normalizer<4,>=2 in /usr/local/lib/python3.10/dist-packages (from requests) (3.2.0)\n",
            "Requirement already satisfied: idna<4,>=2.5 in /usr/local/lib/python3.10/dist-packages (from requests) (3.4)\n",
            "Requirement already satisfied: urllib3<3,>=1.21.1 in /usr/local/lib/python3.10/dist-packages (from requests) (2.0.4)\n",
            "Requirement already satisfied: certifi>=2017.4.17 in /usr/local/lib/python3.10/dist-packages (from requests) (2023.7.22)\n",
            "Requirement already satisfied: python-dateutil>=2.8.1 in /usr/local/lib/python3.10/dist-packages (from pandas) (2.8.2)\n",
            "Requirement already satisfied: pytz>=2020.1 in /usr/local/lib/python3.10/dist-packages (from pandas) (2023.3.post1)\n",
            "Requirement already satisfied: numpy>=1.21.0 in /usr/local/lib/python3.10/dist-packages (from pandas) (1.23.5)\n",
            "Requirement already satisfied: six>=1.5 in /usr/local/lib/python3.10/dist-packages (from python-dateutil>=2.8.1->pandas) (1.16.0)\n"
          ]
        }
      ]
    },
    {
      "cell_type": "code",
      "source": [
        "pip install plyer\n"
      ],
      "metadata": {
        "colab": {
          "base_uri": "https://localhost:8080/"
        },
        "id": "jUxFT2-k64Uw",
        "outputId": "46cca2f9-9083-4f95-eabb-81aedcb6b668"
      },
      "execution_count": 21,
      "outputs": [
        {
          "output_type": "stream",
          "name": "stdout",
          "text": [
            "Requirement already satisfied: plyer in /usr/local/lib/python3.10/dist-packages (2.1.0)\n"
          ]
        }
      ]
    },
    {
      "cell_type": "code",
      "source": [
        "import requests\n",
        "import pandas as pd\n",
        "from plyer import notification\n",
        "\n",
        "def alerta(message):\n",
        "    notification.notify(\n",
        "        title='Erro',\n",
        "        message=message\n",
        "    )\n",
        "\n",
        "url = 'https://brasilapi.com.br/api/banks/v1'\n",
        "data = {}\n",
        "\n",
        "try:\n",
        "    response = requests.get(url)\n",
        "\n",
        "    if response.status_code == 200:\n",
        "        data = response.json()\n",
        "        table1 = pd.DataFrame(data)\n",
        "        print(\"Tabela 1:\")\n",
        "        print(table1)\n",
        "\n",
        "    if 2 in data:\n",
        "        table2_data = data[2]\n",
        "        table2 = pd.DataFrame(table2_data)\n",
        "        print(\"Tabela 2:\")\n",
        "        print(table2)\n",
        "\n",
        "    if 3 in data:\n",
        "        table3_data = data[3]\n",
        "        table3 = pd.DataFrame(table3_data)\n",
        "        print(\"Tabela 3:\")\n",
        "        print(table3)\n",
        "\n",
        "except Exception as e:\n",
        "    error_message = f\"Ocorreu um erro: {str(e)}\"\n",
        "    print(error_message)\n",
        "    alerta(error_message)\n"
      ],
      "metadata": {
        "colab": {
          "base_uri": "https://localhost:8080/"
        },
        "id": "YKV2rxFP1Go3",
        "outputId": "9150387f-f2d9-4a2f-a646-1b0b3da3ec93"
      },
      "execution_count": 24,
      "outputs": [
        {
          "output_type": "stream",
          "name": "stdout",
          "text": [
            "Tabela 1:\n",
            "         ispb                        name   code  \\\n",
            "0    00000000          BCO DO BRASIL S.A.    1.0   \n",
            "1    00000208  BRB - BCO DE BRASILIA S.A.   70.0   \n",
            "2    00038121                       Selic    NaN   \n",
            "3    00038166                       Bacen    NaN   \n",
            "4    00122327       SANTINVEST S.A. - CFI  539.0   \n",
            "..        ...                         ...    ...   \n",
            "354  92875780            WARREN CVMC LTDA  371.0   \n",
            "355  92894922              BANCO ORIGINAL  212.0   \n",
            "356  94968518                EFX CC LTDA.  289.0   \n",
            "357                                   NaN    NaN   \n",
            "358                                   NaN    NaN   \n",
            "\n",
            "                                              fullName  \n",
            "0                                 Banco do Brasil S.A.  \n",
            "1                         BRB - BANCO DE BRASILIA S.A.  \n",
            "2                      Banco Central do Brasil - Selic  \n",
            "3                              Banco Central do Brasil  \n",
            "4    SANTINVEST S.A. - CREDITO, FINANCIAMENTO E INV...  \n",
            "..                                                 ...  \n",
            "354  WARREN CORRETORA DE VALORES MOBILIÁRIOS E CÂMB...  \n",
            "355                                Banco Original S.A.  \n",
            "356                      EFX CORRETORA DE CÂMBIO LTDA.  \n",
            "357                                                NaN  \n",
            "358                                                NaN  \n",
            "\n",
            "[359 rows x 4 columns]\n"
          ]
        }
      ]
    }
  ]
}